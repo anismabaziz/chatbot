{
 "cells": [
  {
   "cell_type": "code",
   "execution_count": 1,
   "id": "75350648",
   "metadata": {},
   "outputs": [
    {
     "data": {
      "text/plain": [
       "True"
      ]
     },
     "execution_count": 1,
     "metadata": {},
     "output_type": "execute_result"
    }
   ],
   "source": [
    "from chatbot import GroqChatbot\n",
    "from dotenv import load_dotenv\n",
    "import os\n",
    "\n",
    "\n",
    "load_dotenv()"
   ]
  },
  {
   "cell_type": "code",
   "execution_count": 2,
   "id": "4adc4c95",
   "metadata": {},
   "outputs": [],
   "source": [
    "chatbot = GroqChatbot(\n",
    "    api_key=os.getenv(\"GROQ_API_KEY\"),\n",
    ")"
   ]
  },
  {
   "cell_type": "code",
   "execution_count": 3,
   "id": "18ae519e",
   "metadata": {},
   "outputs": [
    {
     "name": "stdout",
     "output_type": "stream",
     "text": [
      "Hi Anis! Nice to meet you! It's great to hear that you're a data scientist! What kind of projects have you been working on lately? Are you exploring any new tools or techniques in the world of data science? I'm all ears!\n"
     ]
    }
   ],
   "source": [
    "response = chatbot.chat(\"Hi, I'm Anis, a data scientist\")\n",
    "print(response)"
   ]
  },
  {
   "cell_type": "code",
   "execution_count": 4,
   "id": "91486680",
   "metadata": {},
   "outputs": [
    {
     "name": "stdout",
     "output_type": "stream",
     "text": [
      "Hi Anis! Nice to meet you! It's great to hear that you're a data scientist! What kind of projects have you been working on lately? Are you exploring any new tools or techniques in the world of data science? I'm all ears!\n"
     ]
    }
   ],
   "source": [
    "reponse2 = chatbot.chat(\"Hello What is my profession?\")\n",
    "print(response)"
   ]
  },
  {
   "cell_type": "code",
   "execution_count": 5,
   "id": "0c31ef37",
   "metadata": {},
   "outputs": [
    {
     "name": "stdout",
     "output_type": "stream",
     "text": [
      "Human: Hi, I'm Anis, a data scientist\n",
      "AI: Hi Anis! Nice to meet you! It's great to hear that you're a data scientist! What kind of projects have you been working on lately? Are you exploring any new tools or techniques in the world of data science? I'm all ears!\n",
      "Human: Hello What is my profession?\n",
      "AI: Hello again! According to our conversation, you told me that your profession is a data scientist! Am I right?\n"
     ]
    }
   ],
   "source": [
    "print(chatbot.get_session_history(\"default\"))"
   ]
  },
  {
   "cell_type": "code",
   "execution_count": 6,
   "id": "f1e09ddb",
   "metadata": {},
   "outputs": [
    {
     "name": "stdout",
     "output_type": "stream",
     "text": [
      "['default']\n"
     ]
    }
   ],
   "source": [
    "print(chatbot.list_sessions())"
   ]
  },
  {
   "cell_type": "code",
   "execution_count": 7,
   "id": "16bfdfc7",
   "metadata": {},
   "outputs": [
    {
     "name": "stdout",
     "output_type": "stream",
     "text": [
      "['default', 'dev']\n"
     ]
    }
   ],
   "source": [
    "chatbot.create_session(\"dev\")\n",
    "print(chatbot.list_sessions())"
   ]
  },
  {
   "cell_type": "code",
   "execution_count": null,
   "id": "5e9e8705",
   "metadata": {},
   "outputs": [],
   "source": []
  }
 ],
 "metadata": {
  "kernelspec": {
   "display_name": ".venv",
   "language": "python",
   "name": "python3"
  },
  "language_info": {
   "codemirror_mode": {
    "name": "ipython",
    "version": 3
   },
   "file_extension": ".py",
   "mimetype": "text/x-python",
   "name": "python",
   "nbconvert_exporter": "python",
   "pygments_lexer": "ipython3",
   "version": "3.11.11"
  }
 },
 "nbformat": 4,
 "nbformat_minor": 5
}
