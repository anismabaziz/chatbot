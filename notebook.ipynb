{
 "cells": [
  {
   "cell_type": "code",
   "execution_count": 1,
   "id": "75350648",
   "metadata": {},
   "outputs": [
    {
     "data": {
      "text/plain": [
       "True"
      ]
     },
     "execution_count": 1,
     "metadata": {},
     "output_type": "execute_result"
    }
   ],
   "source": [
    "from chatbot import GroqChatbot\n",
    "from dotenv import load_dotenv\n",
    "import os\n",
    "\n",
    "\n",
    "load_dotenv()"
   ]
  },
  {
   "cell_type": "code",
   "execution_count": 2,
   "id": "4adc4c95",
   "metadata": {},
   "outputs": [],
   "source": [
    "chatbot = GroqChatbot(\n",
    "    api_key=os.getenv(\"GROQ_API_KEY\"),\n",
    ")"
   ]
  },
  {
   "cell_type": "code",
   "execution_count": 3,
   "id": "18ae519e",
   "metadata": {},
   "outputs": [
    {
     "name": "stdout",
     "output_type": "stream",
     "text": [
      "Nice to meet you, Anis! It's great to have a data scientist like you chatting with me. What brings you here today? Are you working on a project, or just looking for some conversation about data science and its applications?\n"
     ]
    }
   ],
   "source": [
    "response = chatbot.chat(\"Hi, I'm Anis, a data scientist\")\n",
    "print(response)"
   ]
  },
  {
   "cell_type": "code",
   "execution_count": 4,
   "id": "91486680",
   "metadata": {},
   "outputs": [
    {
     "name": "stdout",
     "output_type": "stream",
     "text": [
      "Nice to meet you, Anis! It's great to have a data scientist like you chatting with me. What brings you here today? Are you working on a project, or just looking for some conversation about data science and its applications?\n"
     ]
    }
   ],
   "source": [
    "reponse2 = chatbot.chat(\"Hello What is my profession?\")\n",
    "print(response)"
   ]
  },
  {
   "cell_type": "code",
   "execution_count": null,
   "id": "0c31ef37",
   "metadata": {},
   "outputs": [
    {
     "name": "stdout",
     "output_type": "stream",
     "text": [
      "Human: Hi, I'm Anis, a data scientist\n",
      "AI: Nice to meet you, Anis! It's great to have a data scientist like you chatting with me. What brings you here today? Are you working on a project, or just looking for some conversation about data science and its applications?\n",
      "Human: Hello What is my profession?\n",
      "AI: You're a data scientist!\n"
     ]
    }
   ],
   "source": [
    "print(chatbot.get_session_history(\"default\"))"
   ]
  },
  {
   "cell_type": "code",
   "execution_count": null,
   "id": "f1e09ddb",
   "metadata": {},
   "outputs": [],
   "source": []
  }
 ],
 "metadata": {
  "kernelspec": {
   "display_name": ".venv",
   "language": "python",
   "name": "python3"
  },
  "language_info": {
   "codemirror_mode": {
    "name": "ipython",
    "version": 3
   },
   "file_extension": ".py",
   "mimetype": "text/x-python",
   "name": "python",
   "nbconvert_exporter": "python",
   "pygments_lexer": "ipython3",
   "version": "3.11.11"
  }
 },
 "nbformat": 4,
 "nbformat_minor": 5
}
